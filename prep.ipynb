{
 "cells": [
  {
   "cell_type": "code",
   "execution_count": 94,
   "source": [
    "import pandas as pd\n",
    "import numpy as np\n",
    "import matplotlib.pyplot as plt\n",
    "\n"
   ],
   "outputs": [],
   "metadata": {}
  },
  {
   "cell_type": "code",
   "execution_count": 95,
   "source": [
    "df=pd.read_csv(\"['Best Business Books'].csv\",dtype=object)"
   ],
   "outputs": [],
   "metadata": {}
  },
  {
   "cell_type": "code",
   "execution_count": null,
   "source": [],
   "outputs": [],
   "metadata": {}
  },
  {
   "cell_type": "code",
   "execution_count": 96,
   "source": [
    "df[df.author=='Aaron Painter']['cover_url']"
   ],
   "outputs": [
    {
     "output_type": "execute_result",
     "data": {
      "text/plain": [
       "256    https://i.gr-assets.com/images/S/compressed.ph...\n",
       "Name: cover_url, dtype: object"
      ]
     },
     "metadata": {},
     "execution_count": 96
    }
   ],
   "metadata": {}
  },
  {
   "cell_type": "code",
   "execution_count": 97,
   "source": [
    "df = df[df['titles'].notna()]"
   ],
   "outputs": [],
   "metadata": {}
  },
  {
   "cell_type": "code",
   "execution_count": 98,
   "source": [
    "df.loc[df['first_published'].isna(),'first_published'] = df.loc[df['first_published'].isna(),'published_year'].apply(lambda x: x)"
   ],
   "outputs": [],
   "metadata": {}
  },
  {
   "cell_type": "code",
   "execution_count": 99,
   "source": [
    "df.drop('published_year',axis=1,inplace=True)"
   ],
   "outputs": [],
   "metadata": {}
  },
  {
   "cell_type": "code",
   "execution_count": 100,
   "source": [
    "df.drop(['places','awards'],axis=1,inplace=True)"
   ],
   "outputs": [],
   "metadata": {}
  },
  {
   "cell_type": "code",
   "execution_count": 101,
   "source": [
    "df.loc[df['number_of_pages'].isna(),'number_of_pages'] = df.number_of_pages.median()"
   ],
   "outputs": [],
   "metadata": {}
  },
  {
   "cell_type": "code",
   "execution_count": 102,
   "source": [
    "df.number_of_pages.isna().sum()"
   ],
   "outputs": [
    {
     "output_type": "execute_result",
     "data": {
      "text/plain": [
       "0"
      ]
     },
     "metadata": {},
     "execution_count": 102
    }
   ],
   "metadata": {}
  },
  {
   "cell_type": "code",
   "execution_count": 103,
   "source": [
    "df.loc[df['first_published'].isna(),'first_published'] = df.first_published.median()"
   ],
   "outputs": [],
   "metadata": {}
  },
  {
   "cell_type": "code",
   "execution_count": null,
   "source": [],
   "outputs": [],
   "metadata": {}
  },
  {
   "cell_type": "code",
   "execution_count": 104,
   "source": [
    "df.loc[df['genres'].isna(),'genres'] = ['Business']"
   ],
   "outputs": [],
   "metadata": {}
  },
  {
   "cell_type": "code",
   "execution_count": 105,
   "source": [
    "df.dropna(inplace=True)"
   ],
   "outputs": [],
   "metadata": {}
  },
  {
   "cell_type": "code",
   "execution_count": null,
   "source": [],
   "outputs": [],
   "metadata": {}
  },
  {
   "cell_type": "code",
   "execution_count": 106,
   "source": [
    "df.columns"
   ],
   "outputs": [
    {
     "output_type": "execute_result",
     "data": {
      "text/plain": [
       "Index(['Unnamed: 0', 'titles', 'author', 'number_of_reviews',\n",
       "       'number_of_ratings', 'average_rating', 'number_of_pages',\n",
       "       'first_published', 'series', 'genres', 'url', 'cover_url'],\n",
       "      dtype='object')"
      ]
     },
     "metadata": {},
     "execution_count": 106
    }
   ],
   "metadata": {}
  },
  {
   "cell_type": "code",
   "execution_count": 107,
   "source": [
    "df.number_of_pages=df.number_of_pages.astype('int64')"
   ],
   "outputs": [],
   "metadata": {}
  },
  {
   "cell_type": "code",
   "execution_count": 108,
   "source": [
    "def sizer(x):\n",
    "    if x<50:\n",
    "        return 'very short'\n",
    "    elif x>=50 and x<200:\n",
    "        return 'short'\n",
    "    elif x>=200 and x<400:\n",
    "        return 'medium'\n",
    "    elif x>=400 and x<800:\n",
    "        return 'long'\n",
    "    elif x>=800:\n",
    "        return 'very long'"
   ],
   "outputs": [],
   "metadata": {}
  },
  {
   "cell_type": "code",
   "execution_count": 109,
   "source": [
    "df['length'] = df.number_of_pages.apply(sizer)"
   ],
   "outputs": [],
   "metadata": {}
  },
  {
   "cell_type": "code",
   "execution_count": null,
   "source": [],
   "outputs": [],
   "metadata": {}
  },
  {
   "cell_type": "code",
   "execution_count": 110,
   "source": [
    "from sklearn.preprocessing import MinMaxScaler\n",
    "x = df['average_rating'].astype('float64').values\n",
    "scaler = MinMaxScaler()\n",
    "df['average_rating'] = scaler.fit_transform(x.reshape(-1,1))*10\n",
    "df['average_rating'] = df['average_rating'].apply(lambda x: round(x,1))\n"
   ],
   "outputs": [],
   "metadata": {}
  },
  {
   "cell_type": "code",
   "execution_count": null,
   "source": [],
   "outputs": [],
   "metadata": {}
  },
  {
   "cell_type": "code",
   "execution_count": 111,
   "source": [
    "def rater(x):\n",
    "    if x<4:\n",
    "        return 'very bad'\n",
    "    elif x>=4 and x<6.5:\n",
    "        return 'bad'\n",
    "    elif x>=6.5 and x<8:\n",
    "        return 'good'\n",
    "    elif x>=8 and x<10:\n",
    "        return 'very good'\n",
    "    elif x==10:\n",
    "        return 'excellent'"
   ],
   "outputs": [],
   "metadata": {}
  },
  {
   "cell_type": "code",
   "execution_count": 119,
   "source": [
    "df['rating_range'] = df.average_rating.apply(rater)\n",
    "df.rating_range.unique()\n"
   ],
   "outputs": [
    {
     "output_type": "execute_result",
     "data": {
      "text/plain": [
       "array(['very good', 'good', 'excellent', 'bad', 'very bad'], dtype=object)"
      ]
     },
     "metadata": {},
     "execution_count": 119
    }
   ],
   "metadata": {}
  },
  {
   "cell_type": "code",
   "execution_count": 113,
   "source": [
    "df['first_published'] = df.first_published.astype('int64')"
   ],
   "outputs": [],
   "metadata": {}
  },
  {
   "cell_type": "code",
   "execution_count": 114,
   "source": [
    "df.drop('Unnamed: 0',axis=1,inplace=True)\n",
    "df.to_csv('prepared.csv',index=False)"
   ],
   "outputs": [],
   "metadata": {}
  }
 ],
 "metadata": {
  "orig_nbformat": 4,
  "language_info": {
   "name": "python",
   "version": "3.9.7",
   "mimetype": "text/x-python",
   "codemirror_mode": {
    "name": "ipython",
    "version": 3
   },
   "pygments_lexer": "ipython3",
   "nbconvert_exporter": "python",
   "file_extension": ".py"
  },
  "kernelspec": {
   "name": "python3",
   "display_name": "Python 3.9.7 64-bit ('new_env': conda)"
  },
  "interpreter": {
   "hash": "be7f91b8a86516165fcb6cb0d2d574b7f158dfa612c4d7a1e53febf57ef86532"
  }
 },
 "nbformat": 4,
 "nbformat_minor": 2
}